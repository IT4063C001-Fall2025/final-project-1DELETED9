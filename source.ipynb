{
 "cells": [
  {
   "attachments": {},
   "cell_type": "markdown",
   "metadata": {},
   "source": [
    "# {Project Title}📝\n",
    "\n",
    "![Banner](./assets/banner.jpeg)"
   ]
  },
  {
   "attachments": {},
   "cell_type": "markdown",
   "metadata": {},
   "source": [
    "## Topic\n",
    "*What problem are you (or your stakeholder) trying to address?*\n",
    "📝 <!-- Answer Below -->"
   ]
  },
  {
   "attachments": {},
   "cell_type": "markdown",
   "metadata": {},
   "source": [
    "## Project Question\n",
    "*What specific question are you seeking to answer with this project?*\n",
    "*This is not the same as the questions you ask to limit the scope of the project.*\n",
    "📝 <!-- Answer Below -->"
   ]
  },
  {
   "attachments": {},
   "cell_type": "markdown",
   "metadata": {},
   "source": [
    "## What would an answer look like?\n",
    "*What is your hypothesized answer to your question?*\n",
    "📝 <!-- Answer Below -->"
   ]
  },
  {
   "attachments": {},
   "cell_type": "markdown",
   "metadata": {},
   "source": [
    "## Data Sources\n",
    "*What 3 data sources have you identified for this project?*\n",
    "*How are you going to relate these datasets?*\n",
    "📝 <!-- Answer Below -->"
   ]
  },
  {
   "attachments": {},
   "cell_type": "markdown",
   "metadata": {},
   "source": [
    "## Approach and Analysis\n",
    "*What is your approach to answering your project question?*\n",
    "*How will you use the identified data to answer your project question?*\n",
    "📝 <!-- Start Discussing the project here; you can add as many code cells as you need -->"
   ]
  },
  {
   "cell_type": "code",
   "execution_count": null,
   "metadata": {},
   "outputs": [],
   "source": [
    "# Start your code here\n",
    "#What are the long-term trends in PC player playtime and engagement across different game genres?\n",
    "#Multiplayer genres will show steady growth in engagement, while single-player genres will decline over time.\n",
    "#Steam Charts, Kaggle Video Game Dataset, Steam Web API\n",
    "#I will import and clean the datasets, then merge them using the Steam App ID\n",
    "# to link player counts, genres, and release data. After aggregating playtime by genre each year,\n",
    "# I’ll create visualizations such as line charts, bar charts, and heatmaps to reveal long-term engagement\n",
    "# trends. Finally, I’ll interpret the results to identify which genres are rising or declining\n",
    "# and what that means for the future of PC gaming.\n",
    "#data sources\n",
    "#https://www.kaggle.com/datasets/fronkongames/steam-games-dataset?resource=download\n",
    "#https://steamcharts.com/app/730\n",
    "#https://www.kaggle.com/datasets/nikdavis/steam-store-games\n",
    "\n",
    "\n",
    "import pandas as pd\n",
    "import seaborn as sns\n",
    "import matplotlib.pyplot as plt\n",
    "import numpy as np\n",
    "import requests\n",
    "from bs4 import BeautifulSoup\n",
    "\n",
    "#df = pd.read_csv(\"kaggle_videogames.csv\")\n",
    "\n",
    "df2 = pd.read_csv(\"steam.csv\")\n",
    "\n",
    "df = pd.read_csv(\"sample_videogames.csv\")\n",
    "\n",
    "url = \"https://steamcharts.com/app/730\"\n",
    "page = requests.get(url)\n",
    "soup = BeautifulSoup(page.text, \"html.parser\")\n",
    "rows = soup.select(\"table.common-table tbody tr\")\n",
    "data = []\n",
    "for row in rows:\n",
    "    cols = [col.text.strip() for col in row.find_all(\"td\")]\n",
    "    data.append(cols)\n",
    "\n",
    "#cleaning kaggles_videogames.csv\n",
    "df.drop_duplicates(inplace=True)\n",
    "missing = df.isnull().sum().sort_values(ascending=False)\n",
    "print(missing.head(10))\n",
    "df = df.dropna(subset=[\"Genres\", \"Average playtime forever\", \"Release date\"])\n",
    "df = pd.DataFrame(data, columns=[\"Month\", \"Avg Players\", \"Gain\", \"Peak Players\"])\n",
    "df[\"Avg Players\"] = df[\"Avg Players\"].str.replace(\",\", \"\").astype(float)\n",
    "df[\"Release date\"] = pd.to_datetime(df[\"Release date\"], errors=\"coerce\")\n",
    "df[\"Year\"] = df[\"Release date\"].dt.year\n",
    "df[\"Average playtime forever\"] = pd.to_numeric(df[\"Average playtime forever\"], errors=\"coerce\")\n",
    "df[\"Estimated owners\"] = pd.to_numeric(df[\"Estimated owners\"], errors=\"coerce\")\n",
    "\n",
    "#cleaning steam.csv\n",
    "df2['release_date'] = pd.to_datetime(df2['release_date'], errors='coerce')\n",
    "df2['price'] = pd.to_numeric(df2['price'], errors='coerce')\n",
    "def owners_to_midpoint(value):\n",
    "    if isinstance(value, str) and '-' in value:\n",
    "        low, high = value.split('-')\n",
    "        return (int(low) + int(high)) / 2\n",
    "    return np.nan\n",
    "\n",
    "df2['owners'] = df2['owners'].apply(owners_to_midpoint)\n",
    "for col in ['developer', 'publisher', 'genres', 'categories', 'platforms']:\n",
    "    if col in df2.columns:\n",
    "        df2[col] = df2[col].fillna(\"Unknown\")\n",
    "\n",
    "for col in ['positive_ratings', 'negative_ratings', 'average_playtime', 'price']:\n",
    "    if col in df2.columns:\n",
    "        df2[col] = df2[col].fillna(0)\n",
    "\n",
    "for col in ['genres', 'categories', 'platforms']:\n",
    "    if col in df2.columns:\n",
    "        df2[col] = df2[col].apply(lambda x: x.split(';')[0] if isinstance(x, str) else x)\n",
    "\n",
    "df2 = df2.drop_duplicates(subset=['appid'])\n",
    "df2 = df2[df2['release_date'].notna()]\n",
    "\n",
    "#cleaning the scrapped page to easily merge the datasets\n",
    "soup.rename(columns={'Game': 'Name'}, inplace=True)\n",
    "soup['name'] = soup['name'].str.lower().str.strip()\n",
    "\n",
    "#combining datasets\n",
    "combined_df = pd.merge(df, df2, on='name', how='outer', suffixes=('_steam', '_kaggle'))\n",
    "combined_df = pd.merge(combined_df, soup, on='title', how='left')\n",
    "\n",
    "#viz 1\n",
    "genre_players = combined_df.groupby('genres')['avg_players'].mean().reset_index().dropna()\n",
    "plt.figure(figsize=(10,6))\n",
    "sns.barplot(y='genres', x='avg_players', data=genre_players.sort_values('avg_players', ascending=False).head(10))\n",
    "plt.title(\"Top 10 Game Genres by Average Players\")\n",
    "plt.xlabel(\"Average Players\")\n",
    "plt.ylabel(\"Genre\")\n",
    "plt.tight_layout()\n",
    "plt.show()\n",
    "\n",
    "#Viz 2\n",
    "combined_df['release_date'] = pd.to_datetime(df['release_date'], errors='coerce')\n",
    "combined_df['year'] = combined_df['release_date'].dt.year\n",
    "yearly_players = df.groupby('year')['avg_players'].mean().reset_index().dropna()\n",
    "plt.figure(figsize=(10,6))\n",
    "sns.lineplot(x='year', y='avg_players', data=yearly_players, marker='o')\n",
    "plt.title(\"Average Player Engagement Over Time\")\n",
    "plt.xlabel(\"Year\")\n",
    "plt.ylabel(\"Average Players\")\n",
    "plt.grid(True, linestyle='--', alpha=0.5)\n",
    "plt.tight_layout()\n",
    "plt.show()\n",
    "\n",
    "#Viz 3\n",
    "plt.figure(figsize=(8,6))\n",
    "sns.scatterplot(x='price', y='avg_players', data=combined_df, alpha=0.6)\n",
    "plt.title(\"Price vs. Player Engagement\")\n",
    "plt.xlabel(\"Game Price\")\n",
    "plt.ylabel(\"Average Players\")\n",
    "plt.grid(True, linestyle='--', alpha=0.5)\n",
    "plt.tight_layout()\n",
    "plt.show()\n",
    "\n",
    "#Viz 4\n",
    "numeric_df = df.select_dtypes(include=['float64', 'int64']).dropna()\n",
    "corr = numeric_df.corr()\n",
    "plt.figure(figsize=(8,6))\n",
    "sns.heatmap(corr, annot=True, cmap='coolwarm', fmt=\".2f\")\n",
    "plt.title(\"Correlation Heatmap of Game Metrics\")\n",
    "plt.tight_layout()\n",
    "plt.show()\n"
   ]
  },
  {
   "attachments": {},
   "cell_type": "markdown",
   "metadata": {},
   "source": [
    "## Resources and References\n",
    "*What resources and references have you used for this project?*\n",
    "📝 <!-- Answer Below -->"
   ]
  },
  {
   "cell_type": "code",
   "execution_count": null,
   "metadata": {},
   "outputs": [
    {
     "name": "stdout",
     "output_type": "stream",
     "text": [
      "[NbConvertApp] Converting notebook source.ipynb to python\n",
      "[NbConvertApp] Writing 1271 bytes to source.py\n"
     ]
    }
   ],
   "source": [
    "# ⚠️ Make sure you run this cell at the end of your notebook before every submission!\n",
    "!jupyter nbconvert --to python source.ipynb"
   ]
  }
 ],
 "metadata": {
  "kernelspec": {
   "display_name": "Final-Project-Template-unx06iZ2",
   "language": "python",
   "name": "python3"
  },
  "language_info": {
   "codemirror_mode": {
    "name": "ipython",
    "version": 3
   },
   "file_extension": ".py",
   "mimetype": "text/x-python",
   "name": "python",
   "nbconvert_exporter": "python",
   "pygments_lexer": "ipython3",
   "version": "3.11.1"
  },
  "orig_nbformat": 4,
  "vscode": {
   "interpreter": {
    "hash": "8f59090b806211711d8ea6da25ee5b1ccb272a75a21b9536283520350d8dfda7"
   }
  }
 },
 "nbformat": 4,
 "nbformat_minor": 2
}
